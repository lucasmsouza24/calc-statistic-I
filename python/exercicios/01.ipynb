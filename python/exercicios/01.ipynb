{
 "cells": [
  {
   "cell_type": "markdown",
   "metadata": {},
   "source": [
    "# Exercícios\n",
    "\n",
    "1 - Crie uma lista com dados distribuidos entre 0 e 50 e 50 posições\n",
    "2 - Desenvolva funções que calcule a média, mediana e moda dessa lista"
   ]
  },
  {
   "cell_type": "code",
   "execution_count": 59,
   "metadata": {},
   "outputs": [],
   "source": [
    "import numpy as np \n",
    "import matplotlib.pyplot as plt\n",
    "import pandas as pd\n",
    "\n",
    "incomes = np.random.normal(10, 5, 100)\n",
    "incomes = list(incomes.copy())\n",
    "\n",
    "# print(incomes)"
   ]
  },
  {
   "cell_type": "code",
   "execution_count": 60,
   "metadata": {},
   "outputs": [
    {
     "data": {
      "image/png": "[encoded data removed]",
      "text/plain": [
       "<Figure size 432x288 with 1 Axes>"
      ]
     },
     "metadata": {
      "needs_background": "light"
     },
     "output_type": "display_data"
    }
   ],
   "source": [
    "plt.hist(incomes)\n",
    "plt.show()"
   ]
  },
  {
   "cell_type": "markdown",
   "metadata": {},
   "source": [
    "# mean"
   ]
  },
  {
   "cell_type": "code",
   "execution_count": 61,
   "metadata": {},
   "outputs": [
    {
     "name": "stdout",
     "output_type": "stream",
     "text": [
      "10.928629226391786\n",
      "10.92862922639178\n",
      "False\n"
     ]
    }
   ],
   "source": [
    "# mean\n",
    "\n",
    "def mean(array):\n",
    "    total = 0\n",
    "    for i in array:\n",
    "        total += i \n",
    "    return total / len(array)\n",
    "\n",
    "print(mean(incomes)) \n",
    "print(np.mean(incomes))\n",
    "print(mean(incomes) == np.mean(incomes))"
   ]
  },
  {
   "cell_type": "markdown",
   "metadata": {},
   "source": [
    "# Median"
   ]
  },
  {
   "cell_type": "code",
   "execution_count": 62,
   "metadata": {},
   "outputs": [
    {
     "data": {
      "text/plain": [
       "-3.2554411740041367"
      ]
     },
     "execution_count": 62,
     "metadata": {},
     "output_type": "execute_result"
    }
   ],
   "source": [
    "# median\n",
    "import math\n",
    "\n",
    "def min(array):\n",
    "    min = None\n",
    "    for i in range(0, len(array)):\n",
    "        if i == 0:\n",
    "            min = array[i]\n",
    "        elif array[i] < min:\n",
    "            min = array[i]\n",
    "    return min \n",
    "\n",
    "min(incomes)"
   ]
  },
  {
   "cell_type": "code",
   "execution_count": 63,
   "metadata": {},
   "outputs": [
    {
     "data": {
      "text/plain": [
       "[-3.2554411740041367,\n",
       " -1.8515067519209634,\n",
       " 0.28708225396063725,\n",
       " 1.2174708437105313,\n",
       " 1.4623957541378374,\n",
       " 1.4811153038647884,\n",
       " 2.4171062922916953,\n",
       " 3.0016971475569427,\n",
       " 3.0197992975338703,\n",
       " 3.0504129926571677,\n",
       " 3.2160248059108945,\n",
       " 3.267998393841852,\n",
       " 4.158387432536665,\n",
       " 4.248916115133707,\n",
       " 4.508153059329808,\n",
       " 4.549299575020985,\n",
       " 5.215729740931723,\n",
       " 5.2292454523082625,\n",
       " 5.252802637619797,\n",
       " 5.27581172347753,\n",
       " 5.346551289043361,\n",
       " 5.732898887999906,\n",
       " 6.010572227844373,\n",
       " 6.79418642295132,\n",
       " 6.818087221017496,\n",
       " 7.089851425673079,\n",
       " 7.239172649589578,\n",
       " 7.263382721524513,\n",
       " 7.375517892812556,\n",
       " 7.400869083503136,\n",
       " 7.563878459829107,\n",
       " 7.813323451238442,\n",
       " 8.047563440123046,\n",
       " 8.370809195328164,\n",
       " 8.723958230742314,\n",
       " 8.945655863699217,\n",
       " 8.970417110878135,\n",
       " 9.086339319064884,\n",
       " 9.35910478417308,\n",
       " 9.447089454344598,\n",
       " 10.15476916550591,\n",
       " 10.21948729366572,\n",
       " 10.316125139900807,\n",
       " 10.556017916928214,\n",
       " 10.572974368724628,\n",
       " 11.003030653034825,\n",
       " 11.056568993038859,\n",
       " 11.114052189212288,\n",
       " 11.205690574525185,\n",
       " 11.208500986419326,\n",
       " 11.290299955126905,\n",
       " 11.35842075116595,\n",
       " 11.393765320608036,\n",
       " 11.584684497496044,\n",
       " 11.787048255667921,\n",
       " 11.953814086826364,\n",
       " 12.022013053808886,\n",
       " 12.192294670504243,\n",
       " 12.28501415758212,\n",
       " 12.381326738487878,\n",
       " 12.703125559875357,\n",
       " 12.89871532336107,\n",
       " 13.218451295704511,\n",
       " 13.487738776637054,\n",
       " 13.553354693960314,\n",
       " 13.625772313995228,\n",
       " 13.681246156242793,\n",
       " 14.094954903552875,\n",
       " 14.135369112793114,\n",
       " 14.329443176403782,\n",
       " 14.385719202844676,\n",
       " 14.394310351689406,\n",
       " 14.436309811913551,\n",
       " 14.45079519071616,\n",
       " 14.629781273387339,\n",
       " 14.94101865881039,\n",
       " 14.995318527695229,\n",
       " 15.310959233652515,\n",
       " 15.524169001544738,\n",
       " 15.615894836120823,\n",
       " 15.849217534911043,\n",
       " 16.05388452405936,\n",
       " 16.312289804344363,\n",
       " 16.474356322416355,\n",
       " 16.50196083627427,\n",
       " 16.747275041136042,\n",
       " 16.92882210663814,\n",
       " 17.146668908004624,\n",
       " 17.67118725953647,\n",
       " 17.694428633079394,\n",
       " 17.815658350159133,\n",
       " 17.85842136392008,\n",
       " 18.687257531946926,\n",
       " 18.899783512911426,\n",
       " 18.9288076441062,\n",
       " 19.444950224727556,\n",
       " 19.63291506366258,\n",
       " 20.444944555051805,\n",
       " 24.37083500926514,\n",
       " 30.179182216616155]"
      ]
     },
     "execution_count": 63,
     "metadata": {},
     "output_type": "execute_result"
    }
   ],
   "source": [
    "# sort \n",
    "\n",
    "def sort(array):\n",
    "    sorted = []\n",
    "    array = array.copy()\n",
    "    wished_len = len(array)\n",
    "    \n",
    "    while len(sorted) != wished_len:\n",
    "        for i in range(0, len(array)):\n",
    "            if array[i] == min(array):\n",
    "                sorted.append(array[i])\n",
    "                del array[i]\n",
    "                break \n",
    "            continue\n",
    "\n",
    "    return sorted\n",
    "\n",
    "sort(incomes)"
   ]
  },
  {
   "cell_type": "code",
   "execution_count": 64,
   "metadata": {},
   "outputs": [
    {
     "name": "stdout",
     "output_type": "stream",
     "text": [
      "11.249400470773114\n",
      "11.249400470773114\n",
      "True\n"
     ]
    }
   ],
   "source": [
    "# median\n",
    "\n",
    "def median(array):\n",
    "    sorted = sort(array)\n",
    "    middle = math.floor(len(sorted) / 2)\n",
    "\n",
    "    if len(sorted) % 2 == 0:\n",
    "        return mean([sorted[middle], sorted[middle - 1]])\n",
    "    else:\n",
    "        return sorted[middle]\n",
    "\n",
    "print(median(incomes))\n",
    "print(np.median(incomes))\n",
    "print(median(incomes) == np.median(incomes))"
   ]
  },
  {
   "cell_type": "code",
   "execution_count": 65,
   "metadata": {},
   "outputs": [
    {
     "name": "stdout",
     "output_type": "stream",
     "text": [
      "[15.849217534911043, 17.815658350159133, 1.4623957541378374, 4.549299575020985, 1.4811153038647884, 5.252802637619797, 0.28708225396063725, 5.215729740931723, 11.393765320608036, 14.45079519071616, 4.508153059329808, 5.346551289043361, 17.67118725953647, 18.687257531946926, 2.4171062922916953, 10.316125139900807, 19.63291506366258, 13.625772313995228, 5.732898887999906, 11.584684497496044, 18.899783512911426, 7.375517892812556, 16.312289804344363, 19.444950224727556, 14.394310351689406, 11.003030653034825, 17.694428633079394, 13.681246156242793, 7.563878459829107, 11.787048255667921, 8.945655863699217, 10.572974368724628, 13.218451295704511, 11.114052189212288, 11.290299955126905, 3.2160248059108945, 30.179182216616155, 8.970417110878135, 1.2174708437105313, 14.995318527695229, 16.747275041136042, 12.28501415758212, 7.400869083503136, 12.192294670504243, 12.022013053808886, 10.15476916550591, 11.208500986419326, 20.444944555051805, 11.205690574525185, 6.818087221017496, 12.703125559875357, 4.248916115133707, 12.89871532336107, 14.629781273387339, 7.239172649589578, 7.813323451238442, -1.8515067519209634, 14.436309811913551, 5.27581172347753, 10.21948729366572, 3.267998393841852, 16.05388452405936, 16.92882210663814, 10.556017916928214, 14.329443176403782, 7.089851425673079, 15.615894836120823, 24.37083500926514, 9.447089454344598, 9.086339319064884, 8.723958230742314, 12.381326738487878, 7.263382721524513, 14.135369112793114, 15.524169001544738, 5.2292454523082625, 17.85842136392008, 4.158387432536665, 16.50196083627427, 13.553354693960314, 11.35842075116595, 11.056568993038859, 11.953814086826364, 14.94101865881039, 16.474356322416355, 18.9288076441062, -3.2554411740041367, 8.370809195328164, 8.047563440123046, 13.487738776637054, 3.0504129926571677, 3.0197992975338703, 15.310959233652515, 6.010572227844373, 9.35910478417308, 14.094954903552875, 14.385719202844676, 6.79418642295132, 17.146668908004624, 3.0016971475569427]\n"
     ]
    },
    {
     "data": {
      "text/plain": [
       "36"
      ]
     },
     "execution_count": 65,
     "metadata": {},
     "output_type": "execute_result"
    }
   ],
   "source": [
    "# max\n",
    "\n",
    "def max(array):\n",
    "\n",
    "    for i in range(0, len(array)):\n",
    "        if i == 0:\n",
    "            max = array[i]\n",
    "        elif array[i] > max:\n",
    "            max = array[i]\n",
    "\n",
    "    return max\n",
    "\n",
    "def max_index(array):\n",
    "    max_value = max(array)\n",
    "    for i in range(0, len(array)):\n",
    "        if array[i] == max_value:\n",
    "            return i\n",
    "\n",
    "print(incomes)\n",
    "max_index(incomes)"
   ]
  },
  {
   "cell_type": "code",
   "execution_count": 66,
   "metadata": {},
   "outputs": [
    {
     "data": {
      "text/plain": [
       "0"
      ]
     },
     "execution_count": 66,
     "metadata": {},
     "output_type": "execute_result"
    }
   ],
   "source": [
    "# freq\n",
    "\n",
    "def freq(value, array):\n",
    "    freq = 0\n",
    "\n",
    "    for i in range(0, len(array)):\n",
    "        if array[i] == value:\n",
    "            freq += 1\n",
    "    \n",
    "    return freq\n",
    "\n",
    "freq(0, incomes)"
   ]
  },
  {
   "cell_type": "code",
   "execution_count": 67,
   "metadata": {},
   "outputs": [
    {
     "name": "stdout",
     "output_type": "stream",
     "text": [
      "[15.849217534911043, 17.815658350159133, 1.4623957541378374, 4.549299575020985, 1.4811153038647884, 5.252802637619797, 0.28708225396063725, 5.215729740931723, 11.393765320608036, 14.45079519071616, 4.508153059329808, 5.346551289043361, 17.67118725953647, 18.687257531946926, 2.4171062922916953, 10.316125139900807, 19.63291506366258, 13.625772313995228, 5.732898887999906, 11.584684497496044, 18.899783512911426, 7.375517892812556, 16.312289804344363, 19.444950224727556, 14.394310351689406, 11.003030653034825, 17.694428633079394, 13.681246156242793, 7.563878459829107, 11.787048255667921, 8.945655863699217, 10.572974368724628, 13.218451295704511, 11.114052189212288, 11.290299955126905, 3.2160248059108945, 30.179182216616155, 8.970417110878135, 1.2174708437105313, 14.995318527695229, 16.747275041136042, 12.28501415758212, 7.400869083503136, 12.192294670504243, 12.022013053808886, 10.15476916550591, 11.208500986419326, 20.444944555051805, 11.205690574525185, 6.818087221017496, 12.703125559875357, 4.248916115133707, 12.89871532336107, 14.629781273387339, 7.239172649589578, 7.813323451238442, -1.8515067519209634, 14.436309811913551, 5.27581172347753, 10.21948729366572, 3.267998393841852, 16.05388452405936, 16.92882210663814, 10.556017916928214, 14.329443176403782, 7.089851425673079, 15.615894836120823, 24.37083500926514, 9.447089454344598, 9.086339319064884, 8.723958230742314, 12.381326738487878, 7.263382721524513, 14.135369112793114, 15.524169001544738, 5.2292454523082625, 17.85842136392008, 4.158387432536665, 16.50196083627427, 13.553354693960314, 11.35842075116595, 11.056568993038859, 11.953814086826364, 14.94101865881039, 16.474356322416355, 18.9288076441062, -3.2554411740041367, 8.370809195328164, 8.047563440123046, 13.487738776637054, 3.0504129926571677, 3.0197992975338703, 15.310959233652515, 6.010572227844373, 9.35910478417308, 14.094954903552875, 14.385719202844676, 6.79418642295132, 17.146668908004624, 3.0016971475569427]\n"
     ]
    },
    {
     "data": {
      "text/plain": [
       "15.849217534911043"
      ]
     },
     "execution_count": 67,
     "metadata": {},
     "output_type": "execute_result"
    }
   ],
   "source": [
    "# mode \n",
    "\n",
    "def mode(array):\n",
    "    freqs = []\n",
    "\n",
    "    for i in array:\n",
    "        freqs.append(freq(i, array))\n",
    "    \n",
    "    return array[max_index(freqs)]\n",
    "\n",
    "print(incomes)\n",
    "mode(incomes)"
   ]
  }
 ],
 "metadata": {
  "interpreter": {
   "hash": "916dbcbb3f70747c44a77c7bcd40155683ae19c65e1c03b4aa3499c5328201f1"
  },
  "kernelspec": {
   "display_name": "Python 3.8.10 64-bit",
   "language": "python",
   "name": "python3"
  },
  "language_info": {
   "codemirror_mode": {
    "name": "ipython",
    "version": 3
   },
   "file_extension": ".py",
   "mimetype": "text/x-python",
   "name": "python",
   "nbconvert_exporter": "python",
   "pygments_lexer": "ipython3",
   "version": "3.8.10"
  },
  "orig_nbformat": 4
 },
 "nbformat": 4,
 "nbformat_minor": 2
}
